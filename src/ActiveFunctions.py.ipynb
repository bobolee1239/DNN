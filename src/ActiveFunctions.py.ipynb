{
 "cells": [
  {
   "cell_type": "code",
   "execution_count": 1,
   "metadata": {},
   "outputs": [],
   "source": [
    "#!/usr/bin/env python3\n",
    "\n",
    "import numpy as np"
   ]
  },
  {
   "cell_type": "code",
   "execution_count": 2,
   "metadata": {},
   "outputs": [],
   "source": [
    "class ActiveFunctions:\n",
    "    \"\"\"\n",
    "    A base class of activation functions.\n",
    "    \"\"\"\n",
    "    def at(self, rawValues):\n",
    "        return rawValues\n",
    "    \n",
    "    def gradientAt(self, rawValues):\n",
    "        return 1.0\n"
   ]
  },
  {
   "cell_type": "code",
   "execution_count": 3,
   "metadata": {},
   "outputs": [],
   "source": [
    "class ReLu(ActiveFunctions):\n",
    "    \"\"\"\n",
    "    ReLu activation function.\n",
    "    \"\"\"\n",
    "    def at(self, rawValues):\n",
    "        if type(rawValues) != np.ndarray:\n",
    "            return rawValues if rawValues > 0.0 else 0.0\n",
    "        \n",
    "        output = np.zeros(rawValues.shape)\n",
    "        for idx, value in enumerate(rawValues):\n",
    "            output[idx] = value if value > 0.0 else 0.0\n",
    "        return output\n",
    "    \n",
    "    def gradientAt(self, rawValues):\n",
    "        if type(rawValues) != np.ndarray:\n",
    "            return 1.0 if rawValues > 0.0 else 0.0\n",
    "        \n",
    "        output = np.zeros(rawValues.shape)\n",
    "        for idx, value in enumerate(rawValues):\n",
    "            output[idx] = 1.0 if value > 0.0 else 0.0\n",
    "        return output"
   ]
  },
  {
   "cell_type": "code",
   "execution_count": 4,
   "metadata": {},
   "outputs": [],
   "source": [
    "class Softmax(ActiveFunctions):\n",
    "    \"\"\"\n",
    "    Softmax activation function.\n",
    "    \"\"\"\n",
    "    def at(self, rawValues):\n",
    "        if type(rawValues) is not np.ndarray: \n",
    "            raise TypeError('<Usage> Softmax.at(vars) where type vars should be numpy.ndarrya!')\n",
    "        \n",
    "        rawValues = rawValues.ravel()\n",
    "        maxValue = max(rawValues)\n",
    "        rawValues -= maxValue\n",
    "        output = np.zeros(rawValues.shape)\n",
    "        for idx, value in enumerate(rawValues):\n",
    "            output[idx] = np.exp(value) / sum(np.exp(rawValues))\n",
    "            \n",
    "        return output\n",
    "    \n",
    "    def gradientAt(self, rawValues):\n",
    "        if type(rawValues) is not np.ndarray: \n",
    "            raise TypeError('<Usage> Softmax.at(vars) where type vars should be numpy.ndarrya!')\n",
    "            \n",
    "        rawValues = rawValues.ravel()\n",
    "        maxValue = max(rawValues)\n",
    "        rawValues -= maxValue    \n",
    "        \n",
    "        output = np.zeros(rawValues.shape)\n",
    "        for idx, value in enumerate(rawValues):\n",
    "            p = np.exp(value) / sum(np.exp(rawValues))\n",
    "            output[idx] = p * (1 - p)\n",
    "        return output"
   ]
  },
  {
   "cell_type": "code",
   "execution_count": 5,
   "metadata": {},
   "outputs": [
    {
     "name": "stdout",
     "output_type": "stream",
     "text": [
      "[  1.   100.     0.     7.56]\n",
      "[1. 1. 0. 1.]\n",
      "[0.87887824 0.11894324 0.00217852]\n",
      "[0.10645128 0.10479574 0.00217378]\n"
     ]
    }
   ],
   "source": [
    "## --------- TESTING --------\n",
    "\n",
    "if __name__ =='__main__':\n",
    "    # --- Testing ReLu:\n",
    "    relu = ReLu()\n",
    "    testData = np.array([1.0, 100.0, -50.0, 7.56])\n",
    "    print(relu.at(testData))\n",
    "    print(relu.gradientAt(testData))\n",
    "    \n",
    "    # --- Testing Softmax:\n",
    "    softmax = Softmax()\n",
    "    testData = np.array([3, 1, -3])\n",
    "    print(softmax.at(testData))\n",
    "    print(softmax.gradientAt(testData))"
   ]
  },
  {
   "cell_type": "code",
   "execution_count": 9,
   "metadata": {},
   "outputs": [
    {
     "data": {
      "text/plain": [
       "0.001996"
      ]
     },
     "execution_count": 9,
     "metadata": {},
     "output_type": "execute_result"
    }
   ],
   "source": []
  }
 ],
 "metadata": {
  "kernelspec": {
   "display_name": "Python 3",
   "language": "python",
   "name": "python3"
  },
  "language_info": {
   "codemirror_mode": {
    "name": "ipython",
    "version": 3
   },
   "file_extension": ".py",
   "mimetype": "text/x-python",
   "name": "python",
   "nbconvert_exporter": "python",
   "pygments_lexer": "ipython3",
   "version": "3.6.1"
  }
 },
 "nbformat": 4,
 "nbformat_minor": 2
}
